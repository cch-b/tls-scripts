{
 "cells": [
  {
   "cell_type": "code",
   "execution_count": 4,
   "id": "eed1c234",
   "metadata": {},
   "outputs": [
    {
     "name": "stdout",
     "output_type": "stream",
     "text": [
      "Using matplotlib backend: MacOSX\n",
      "%pylab is deprecated, use %matplotlib inline and import the required libraries.\n",
      "Populating the interactive namespace from numpy and matplotlib\n"
     ]
    }
   ],
   "source": [
    "%pylab\n",
    "%matplotlib inline "
   ]
  },
  {
   "cell_type": "code",
   "execution_count": 5,
   "id": "6d56dfc7-8ac7-4024-9d98-83e0d9a7902a",
   "metadata": {},
   "outputs": [],
   "source": [
    "import os\n",
    "\n",
    "os.chdir(\"/Users/peter/dev/ucltrees/download/tls-tools-ucl/rxp-pipeline\")"
   ]
  },
  {
   "cell_type": "code",
   "execution_count": 6,
   "id": "4be78c94",
   "metadata": {},
   "outputs": [],
   "source": [
    "import glob\n",
    "import ply_io\n",
    "import pandas as pd\n",
    "import geopandas as gp\n",
    "from shapely.geometry import Point, Polygon\n",
    "import string\n",
    "\n",
    "from matplotlib.backends.backend_pdf import PdfPages"
   ]
  },
  {
   "cell_type": "code",
   "execution_count": 7,
   "id": "d301ba1f-827e-45cd-be49-9650447344da",
   "metadata": {},
   "outputs": [],
   "source": [
    "oko_01 = '/home/users/ucfacc2/TLS/gabon/OKO-01/2022-06-04.PROJ/'\n",
    "oko_02 = '/home/users/ucfacc2/TLS/gabon/OKO-02/2022-06-10.PROJ/'\n",
    "oko_03 = '/home/users/ucfacc2/TLS/gabon/OKO-03/2022-07-04.PROJ/'\n",
    "lpg_01 = '/home/users/ucfacc2/TLS/gabon/LPG-01/2022-06-24.PROJ/'\n",
    "fg5c1 = '/home/users/ucfacc2/TLS/fguiana/FG5c1/2022-10-10_FG5c1.PROJ/'\n",
    "fg6c2 = '/home/users/ucfacc2/TLS/fguiana/FG6c2/2022-10-18_FG6c2.PROJ/'\n",
    "fg8c4 = '/home/users/ucfacc2/TLS/fguiana/FG8c4/2022-09-26_FG8c4.PROJ/'"
   ]
  },
  {
   "cell_type": "code",
   "execution_count": 8,
   "id": "086f7384-6625-4f4f-99bd-80298aa61f4a",
   "metadata": {},
   "outputs": [],
   "source": [
    "in_dir = oko_02\n",
    "scratch_dir = '/work/scratch-pw3/ucfacc2/oko_02/'"
   ]
  },
  {
   "cell_type": "code",
   "execution_count": 9,
   "id": "e56e61d1",
   "metadata": {},
   "outputs": [],
   "source": [
    "def voxelise(tmp, length):\n",
    "\n",
    "    tmp.loc[:, 'xx'] = tmp.x // length * length\n",
    "    tmp.loc[:, 'yy'] = tmp.y // length * length\n",
    "    \n",
    "    code = lambda: ''.join(np.random.choice([x for x in string.ascii_letters], size=8))\n",
    "    \n",
    "    xD = {x:code() for x in tmp.xx.unique()}\n",
    "    yD = {y:code() for y in tmp.yy.unique()}\n",
    "    \n",
    "    tmp.loc[:, 'VX'] = tmp.xx.map(xD) + tmp.yy.map(yD) \n",
    "    \n",
    "    return tmp\n",
    "\n",
    "def rigid_transform_2D(A, B):\n",
    "    \n",
    "    \"\"\"\n",
    "    http://nghiaho.com/uploads/code/rigid_transform_3D.py_\n",
    "    \"\"\"\n",
    "    \n",
    "    assert len(A) == len(B)\n",
    "    \n",
    "    A = np.matrixlib.defmatrix.matrix(A)\n",
    "    B = np.matrixlib.defmatrix.matrix(B)\n",
    "\n",
    "    N = A.shape[0]; # total points\n",
    "\n",
    "    centroid_A = np.mean(A, axis=0).reshape(1, 2)\n",
    "    centroid_B = np.mean(B, axis=0).reshape(1, 2)\n",
    "    \n",
    "    # centre the points\n",
    "    AA = A - np.tile(centroid_A, (N, 1))\n",
    "    BB = B - np.tile(centroid_B, (N, 1))\n",
    "\n",
    "    # dot is matrix multiplication for array\n",
    "    H = np.transpose(AA) * BB\n",
    "\n",
    "    U, S, Vt = np.linalg.svd(H)\n",
    "\n",
    "    R = np.dot(Vt.T, U.T)\n",
    "    \n",
    "    t = -R*centroid_A.T + centroid_B.T\n",
    "    \n",
    "    M, N = np.identity(3), np.identity(3)\n",
    "    M[:2, :2] = R\n",
    "    N[:2, 2] = t.reshape(-1, 2)\n",
    "    \n",
    "    return np.dot(N, M)"
   ]
  },
  {
   "cell_type": "code",
   "execution_count": 11,
   "id": "5d564572",
   "metadata": {},
   "outputs": [
    {
     "ename": "ValueError",
     "evalue": "cannot set a frame with no defined index and a scalar",
     "output_type": "error",
     "traceback": [
      "\u001B[0;31m---------------------------------------------------------------------------\u001B[0m",
      "\u001B[0;31mValueError\u001B[0m                                Traceback (most recent call last)",
      "Cell \u001B[0;32mIn[11], line 111\u001B[0m\n\u001B[1;32m    108\u001B[0m MM \u001B[38;5;241m=\u001B[39m np\u001B[38;5;241m.\u001B[39midentity(\u001B[38;5;241m4\u001B[39m)\n\u001B[1;32m    109\u001B[0m \u001B[38;5;66;03m# MM = np.loadtxt('/home/users/pwilkes/data/TLS/gabon/FGC-04/2020-01-31.001.riproject/FGC04_post2pre.txt')\u001B[39;00m\n\u001B[0;32m--> 111\u001B[0m sp, ti, quad_boundary, M, xoff, yoff \u001B[38;5;241m=\u001B[39m \u001B[43mprepare_data\u001B[49m\u001B[43m(\u001B[49m\u001B[43min_dir\u001B[49m\u001B[43m,\u001B[49m\u001B[43m \u001B[49m\u001B[43mmatrix_dir\u001B[49m\u001B[43m,\u001B[49m\u001B[43m \u001B[49m\u001B[43mtile_index\u001B[49m\u001B[43m,\u001B[49m\u001B[43m \u001B[49m\n\u001B[1;32m    112\u001B[0m \u001B[43m                                        \u001B[49m\u001B[43mbuffer\u001B[49m\u001B[38;5;241;43m=\u001B[39;49m\u001B[38;5;241;43m3\u001B[39;49m\u001B[43m,\u001B[49m\u001B[43m \u001B[49m\u001B[43mrotate\u001B[49m\u001B[38;5;241;43m=\u001B[39;49m\u001B[38;5;28;43;01mFalse\u001B[39;49;00m\u001B[43m,\u001B[49m\u001B[43m \u001B[49m\u001B[43mtile_size\u001B[49m\u001B[38;5;241;43m=\u001B[39;49m\u001B[38;5;241;43m10\u001B[39;49m\u001B[43m,\u001B[49m\u001B[43m \u001B[49m\u001B[43mMM\u001B[49m\u001B[38;5;241;43m=\u001B[39;49m\u001B[43mMM\u001B[49m\u001B[43m)\u001B[49m\n",
      "Cell \u001B[0;32mIn[11], line 14\u001B[0m, in \u001B[0;36mprepare_data\u001B[0;34m(in_dir, matrix_dir, tile_index, plot, buffer, rotate, tile_size, MM)\u001B[0m\n\u001B[1;32m     11\u001B[0m     sp\u001B[38;5;241m.\u001B[39mloc[i, :] \u001B[38;5;241m=\u001B[39m [\u001B[38;5;28mint\u001B[39m(dat[\u001B[38;5;241m-\u001B[39m\u001B[38;5;241m7\u001B[39m:\u001B[38;5;241m-\u001B[39m\u001B[38;5;241m4\u001B[39m:])] \u001B[38;5;241m+\u001B[39m \u001B[38;5;28mlist\u001B[39m(tmp) \n\u001B[1;32m     13\u001B[0m \u001B[38;5;66;03m# rotate using external matrix\u001B[39;00m\n\u001B[0;32m---> 14\u001B[0m sp\u001B[38;5;241m.\u001B[39mloc[:, \u001B[38;5;124m'\u001B[39m\u001B[38;5;124ma\u001B[39m\u001B[38;5;124m'\u001B[39m] \u001B[38;5;241m=\u001B[39m \u001B[38;5;241m1\u001B[39m\n\u001B[1;32m     15\u001B[0m sp\u001B[38;5;241m.\u001B[39mloc[:, \u001B[38;5;124m'\u001B[39m\u001B[38;5;124mz\u001B[39m\u001B[38;5;124m'\u001B[39m] \u001B[38;5;241m=\u001B[39m \u001B[38;5;241m1\u001B[39m\n\u001B[1;32m     16\u001B[0m sp[[\u001B[38;5;124m'\u001B[39m\u001B[38;5;124mx\u001B[39m\u001B[38;5;124m'\u001B[39m, \u001B[38;5;124m'\u001B[39m\u001B[38;5;124my\u001B[39m\u001B[38;5;124m'\u001B[39m]] \u001B[38;5;241m=\u001B[39m np\u001B[38;5;241m.\u001B[39mdot(MM, sp[[\u001B[38;5;124m'\u001B[39m\u001B[38;5;124mx\u001B[39m\u001B[38;5;124m'\u001B[39m, \u001B[38;5;124m'\u001B[39m\u001B[38;5;124my\u001B[39m\u001B[38;5;124m'\u001B[39m, \u001B[38;5;124m'\u001B[39m\u001B[38;5;124mz\u001B[39m\u001B[38;5;124m'\u001B[39m, \u001B[38;5;124m'\u001B[39m\u001B[38;5;124ma\u001B[39m\u001B[38;5;124m'\u001B[39m]]\u001B[38;5;241m.\u001B[39mT)\u001B[38;5;241m.\u001B[39mT[:, :\u001B[38;5;241m2\u001B[39m]\n",
      "File \u001B[0;32m~/opt/anaconda3/envs/ucltrees/lib/python3.9/site-packages/pandas/core/indexing.py:911\u001B[0m, in \u001B[0;36m_LocationIndexer.__setitem__\u001B[0;34m(self, key, value)\u001B[0m\n\u001B[1;32m    908\u001B[0m \u001B[38;5;28mself\u001B[39m\u001B[38;5;241m.\u001B[39m_has_valid_setitem_indexer(key)\n\u001B[1;32m    910\u001B[0m iloc \u001B[38;5;241m=\u001B[39m \u001B[38;5;28mself\u001B[39m \u001B[38;5;28;01mif\u001B[39;00m \u001B[38;5;28mself\u001B[39m\u001B[38;5;241m.\u001B[39mname \u001B[38;5;241m==\u001B[39m \u001B[38;5;124m\"\u001B[39m\u001B[38;5;124miloc\u001B[39m\u001B[38;5;124m\"\u001B[39m \u001B[38;5;28;01melse\u001B[39;00m \u001B[38;5;28mself\u001B[39m\u001B[38;5;241m.\u001B[39mobj\u001B[38;5;241m.\u001B[39miloc\n\u001B[0;32m--> 911\u001B[0m \u001B[43miloc\u001B[49m\u001B[38;5;241;43m.\u001B[39;49m\u001B[43m_setitem_with_indexer\u001B[49m\u001B[43m(\u001B[49m\u001B[43mindexer\u001B[49m\u001B[43m,\u001B[49m\u001B[43m \u001B[49m\u001B[43mvalue\u001B[49m\u001B[43m,\u001B[49m\u001B[43m \u001B[49m\u001B[38;5;28;43mself\u001B[39;49m\u001B[38;5;241;43m.\u001B[39;49m\u001B[43mname\u001B[49m\u001B[43m)\u001B[49m\n",
      "File \u001B[0;32m~/opt/anaconda3/envs/ucltrees/lib/python3.9/site-packages/pandas/core/indexing.py:1847\u001B[0m, in \u001B[0;36m_iLocIndexer._setitem_with_indexer\u001B[0;34m(self, indexer, value, name)\u001B[0m\n\u001B[1;32m   1845\u001B[0m \u001B[38;5;28;01mif\u001B[39;00m \u001B[38;5;129;01mnot\u001B[39;00m \u001B[38;5;28mlen\u001B[39m(\u001B[38;5;28mself\u001B[39m\u001B[38;5;241m.\u001B[39mobj):\n\u001B[1;32m   1846\u001B[0m     \u001B[38;5;28;01mif\u001B[39;00m \u001B[38;5;129;01mnot\u001B[39;00m is_list_like_indexer(value):\n\u001B[0;32m-> 1847\u001B[0m         \u001B[38;5;28;01mraise\u001B[39;00m \u001B[38;5;167;01mValueError\u001B[39;00m(\n\u001B[1;32m   1848\u001B[0m             \u001B[38;5;124m\"\u001B[39m\u001B[38;5;124mcannot set a frame with no \u001B[39m\u001B[38;5;124m\"\u001B[39m\n\u001B[1;32m   1849\u001B[0m             \u001B[38;5;124m\"\u001B[39m\u001B[38;5;124mdefined index and a scalar\u001B[39m\u001B[38;5;124m\"\u001B[39m\n\u001B[1;32m   1850\u001B[0m         )\n\u001B[1;32m   1851\u001B[0m     \u001B[38;5;28mself\u001B[39m\u001B[38;5;241m.\u001B[39mobj[key] \u001B[38;5;241m=\u001B[39m value\n\u001B[1;32m   1852\u001B[0m     \u001B[38;5;28;01mreturn\u001B[39;00m\n",
      "\u001B[0;31mValueError\u001B[0m: cannot set a frame with no defined index and a scalar"
     ]
    }
   ],
   "source": [
    "def prepare_data(in_dir, matrix_dir, tile_index, \n",
    "                 plot=False, buffer=0, rotate=False, \n",
    "                 tile_size=20, MM=np.identity(3)):\n",
    "\n",
    "    # read in scan positions\n",
    "    L = glob.glob(os.path.join(matrix_dir, '*.dat')) + glob.glob(os.path.join(matrix_dir, '*.DAT'))\n",
    "    sp = pd.DataFrame(columns=['sp', 'x', 'y'])\n",
    "\n",
    "    for i, dat in enumerate(L):\n",
    "        tmp = np.loadtxt(dat)[:2, 3]\n",
    "        sp.loc[i, :] = [int(dat[-7:-4:])] + list(tmp) \n",
    "    \n",
    "    # rotate using external matrix\n",
    "    sp.loc[:, 'a'] = 1\n",
    "    sp.loc[:, 'z'] = 1\n",
    "    sp[['x', 'y']] = np.dot(MM, sp[['x', 'y', 'z', 'a']].T).T[:, :2]\n",
    "\n",
    "    xoff = sp.loc[sp.sp == 1].x.item()\n",
    "    yoff = sp.loc[sp.sp == 1].y.item()\n",
    "    \n",
    "    sp.x -= xoff\n",
    "    sp.y -= yoff\n",
    "\n",
    "    if len(sp) == 0: raise Exception(f'no scan positions at: {matrix_dir}')\n",
    "        \n",
    "    # rotate scan positions\n",
    "    if rotate:\n",
    "        spx = np.arange(1, 243)[::2]\n",
    "        spx.reshape(11, 11)\n",
    "\n",
    "        X, Y = np.meshgrid(np.arange(0, 110, 10), np.arange(0, 110, 10))\n",
    "\n",
    "        spx = pd.DataFrame([spx, Y.flatten(), X.flatten()]).T\n",
    "        spx.columns = ['sp', 'xx', 'yx']\n",
    "        spx = pd.merge(spx, sp[['sp', 'x', 'y']], on='sp').astype(float)\n",
    "        M = rigid_transform_2D(spx[['x', 'y']], spx[['xx', 'yx']], )\n",
    "    else: M = np.identity(3)\n",
    "\n",
    "    sp.loc[:, 'a'] = 1\n",
    "\n",
    "\n",
    "    # transform to geopandas\n",
    "    geometry = [Point(r.x, r.y) for r in sp.itertuples()]\n",
    "    sp = gp.GeoDataFrame(sp, geometry=geometry)\n",
    "\n",
    "    # and plot\n",
    "    if plot:\n",
    "        ax = sp.plot.scatter('x', 'y')\n",
    "        ax.plot(*sp.unary_union.minimum_rotated_rectangle.exterior.xy, c='r', lw=5, zorder=1)\n",
    "        \n",
    "    # read in tile index\n",
    "    ti = pd.read_csv(tile_index, sep=' ', usecols=[0,1,2,3], names=['tile', 'x', 'y', 'z'])\n",
    "    ti.loc[:, 'z'] = 1\n",
    "    ti.loc[:, 'a'] = 1\n",
    "\n",
    "    # rotate using global matrix\n",
    "    # ti[['x', 'y']] = np.dot(MM, ti[['x', 'y', 'z', 'a']].T).T[:, :2]\n",
    "    \n",
    "    # rotate with M\n",
    "    ti.loc[:, 'a'] = 1\n",
    "    ti[['x', 'y']] = np.dot(M, ti[['x', 'y', 'a']].T).T[:, :2]\n",
    "    \n",
    "    # ti.x -= xoff\n",
    "    # ti.y -= yoff\n",
    "\n",
    "    # convert to GeoPandas\n",
    "    geometry = [Point(r.x, r.y) for r in ti.itertuples()]\n",
    "    ti = gp.GeoDataFrame(ti, geometry=geometry)\n",
    "\n",
    "    # split into a tile_size m grid\n",
    "    ti = voxelise(ti, tile_size) # voxelise\n",
    "    xx, yy = np.meshgrid(np.arange(ti.xx.min() - tile_size, ti.xx.max() + tile_size, tile_size), \n",
    "                         np.arange(ti.yy.min() - tile_size, ti.yy.max() + tile_size, tile_size))\n",
    "    MAP = {vx:i for i, vx in enumerate(ti.sort_values(['xx', 'yy']).VX.unique())}\n",
    "    ti.loc[:, 'quad'] = ti.VX.map(MAP)\n",
    "        \n",
    "    # generate grid boundaries\n",
    "    print(np.vstack([xx.flatten(), yy.flatten()]).shape)\n",
    "    quad_boundary = pd.DataFrame(data=np.vstack([xx.flatten(), yy.flatten()]).T, columns=['xx', 'yy'])\n",
    "#     quad_boundary = ti.groupby('quad')[['xx', 'yy']].mean()\n",
    "\n",
    "    polygons = []\n",
    "    for row in quad_boundary.itertuples():\n",
    "        polygons.append(Polygon([(row.xx - 0, row.yy - 0), \n",
    "                                 (row.xx + tile_size, row.yy - 0), \n",
    "                                 (row.xx + tile_size, row.yy + tile_size), \n",
    "                                 (row.xx - 0, row.yy + tile_size)]))\n",
    "\n",
    "    quad_boundary = gp.GeoDataFrame({'geometry':polygons})\n",
    "\n",
    "    # select only those that intersect plot boundary\n",
    "    quad_boundary = quad_boundary.loc[quad_boundary.intersects(sp.unary_union.convex_hull.buffer(buffer))]\n",
    "    quad_boundary.loc[:, 'quad_N'] = np.arange(len(quad_boundary))\n",
    "    \n",
    "    # select only tiles that intersect the quad boundary\n",
    "    ti = ti.sjoin(quad_boundary)\n",
    "    \n",
    "    return sp, ti, quad_boundary, M, xoff, yoff\n",
    "\n",
    "# in_dir = '/home/users/pwilkes/data/TLS/brazil/VCR-02/2019-07-15.001.riproject/'\n",
    "matrix_dir = os.path.join(in_dir, 'matrix')\n",
    "tile_index = os.path.join(in_dir, 'tile_index.dat')\n",
    "\n",
    "# MM = np.array([  [0.999588, -0.028691, 604489.3],\n",
    "#                 [0.028691, 0.999588, 648269.8],\n",
    "                # [0.000000, 0.000000, 1.000000]])\n",
    "\n",
    "MM = np.identity(4)\n",
    "# MM = np.loadtxt('/home/users/pwilkes/data/TLS/gabon/FGC-04/2020-01-31.001.riproject/FGC04_post2pre.txt')\n",
    "\n",
    "sp, ti, quad_boundary, M, xoff, yoff = prepare_data(in_dir, matrix_dir, tile_index, \n",
    "                                        buffer=3, rotate=False, tile_size=10, MM=MM)\n",
    "\n",
    "# in_dir = '/home/users/pwilkes/data/TLS/gabon/FGC-01/2020-02-04.001.riproject/'\n",
    "# matrix_dir = os.path.join(in_dir, 'raw', 'matrix')\n",
    "# tile_index = os.path.join(in_dir, 'tile_index.dat')\n",
    "# sp2, ti2, quad_boundary2 = prepare_data(in_dir, matrix_dir, tile_index)"
   ]
  },
  {
   "cell_type": "code",
   "execution_count": 8,
   "id": "7540f550",
   "metadata": {},
   "outputs": [
    {
     "name": "stdout",
     "output_type": "stream",
     "text": [
      "023,035,054,055,056,088,089,101,105,109,118,153,168,169,186,"
     ]
    },
    {
     "data": {
      "image/png": "[encoded data removed]",
      "text/plain": [
       "<Figure size 1080x1080 with 1 Axes>"
      ]
     },
     "metadata": {
      "needs_background": "light"
     },
     "output_type": "display_data"
    }
   ],
   "source": [
    "ax = ti.plot.scatter('x', 'y', c='quad', s=5, cmap='viridis', figsize=(15, 15), colorbar=False)\n",
    "# [ax.text(r.x, r.y, r.tile, clip_on=True) for r in ti.itertuples()]\n",
    "sp.plot.scatter('x', 'y', ax=ax, s=50, marker='+', c='r')\n",
    "ax.plot(*sp.unary_union.minimum_rotated_rectangle.exterior.xy, c='r', lw=5, zorder=1)\n",
    "\n",
    "quad_boundary.loc[quad_boundary.intersects(sp.unary_union.convex_hull.buffer(10))].plot(facecolor='none', ax=ax)\n",
    "XXX = [ax.text(x, y, t) for x, y, t in zip(quad_boundary.centroid.x, \n",
    "                                           quad_boundary.centroid.y,                                           \n",
    "                                           quad_boundary.quad_N)]\n",
    "\n",
    "for row in ti.loc[ti.within(sp.unary_union.convex_hull.buffer(10))].sort_values('tile').itertuples():  \n",
    "    if len(glob.glob(os.path.join(scratch_dir, f'clouds/*/{row.tile:03}_T*on.ply'))) == 0:        \n",
    "        print(f'{row.tile:03}', end=',') \n",
    "#         print(f'{row.tile}', end=',') \n",
    "        ax.text(row.x, row.y, row.tile, clip_on=True, fontsize=20)"
   ]
  },
  {
   "cell_type": "code",
   "execution_count": 68,
   "id": "85d50fba-b216-4d32-a6f6-f3b47b6dffe7",
   "metadata": {},
   "outputs": [
    {
     "data": {
      "text/plain": [
       "'/home/users/pwilkes/tmp/tmp/*/219_T*on.ply'"
      ]
     },
     "execution_count": 68,
     "metadata": {},
     "output_type": "execute_result"
    }
   ],
   "source": [
    "glob.glob(os.path.join(in_dir, f'tmp/*/{row.tile:03}_T*on.ply')"
   ]
  },
  {
   "cell_type": "code",
   "execution_count": null,
   "id": "64f91146-c207-4c60-b0be-fd8cfba71cb3",
   "metadata": {},
   "outputs": [],
   "source": [
    "os.path.isfile(False)"
   ]
  },
  {
   "cell_type": "code",
   "execution_count": 10,
   "id": "5ab874bf-7848-4025-8d78-47912a64fc69",
   "metadata": {},
   "outputs": [],
   "source": [
    "os.chdir('/home/users/pwilkes/data/TLS/gabon/LPG-01/2016-08-04.001.riproject/')"
   ]
  },
  {
   "cell_type": "code",
   "execution_count": 13,
   "id": "311dcc4a",
   "metadata": {},
   "outputs": [
    {
     "name": "stderr",
     "output_type": "stream",
     "text": [
      "/tmp/ipykernel_1574/2715231392.py:75: MatplotlibDeprecationWarning: savefig() got unexpected keyword argument \"papertype\" which is no longer supported as of 3.3 and will become an error two minor releases later\n",
      "  plt.savefig(pp, format='pdf', papertype='A4', bbox_inches='tight', pad_inches=.5)\n",
      "/tmp/ipykernel_1574/2715231392.py:75: MatplotlibDeprecationWarning: savefig() got unexpected keyword argument \"papertype\" which is no longer supported as of 3.3 and will become an error two minor releases later\n",
      "  plt.savefig(pp, format='pdf', papertype='A4', bbox_inches='tight', pad_inches=.5)\n",
      "/tmp/ipykernel_1574/2715231392.py:75: MatplotlibDeprecationWarning: savefig() got unexpected keyword argument \"papertype\" which is no longer supported as of 3.3 and will become an error two minor releases later\n",
      "  plt.savefig(pp, format='pdf', papertype='A4', bbox_inches='tight', pad_inches=.5)\n",
      "/tmp/ipykernel_1574/2715231392.py:75: MatplotlibDeprecationWarning: savefig() got unexpected keyword argument \"papertype\" which is no longer supported as of 3.3 and will become an error two minor releases later\n",
      "  plt.savefig(pp, format='pdf', papertype='A4', bbox_inches='tight', pad_inches=.5)\n",
      "/tmp/ipykernel_1574/2715231392.py:75: MatplotlibDeprecationWarning: savefig() got unexpected keyword argument \"papertype\" which is no longer supported as of 3.3 and will become an error two minor releases later\n",
      "  plt.savefig(pp, format='pdf', papertype='A4', bbox_inches='tight', pad_inches=.5)\n",
      "/tmp/ipykernel_1574/2715231392.py:75: MatplotlibDeprecationWarning: savefig() got unexpected keyword argument \"papertype\" which is no longer supported as of 3.3 and will become an error two minor releases later\n",
      "  plt.savefig(pp, format='pdf', papertype='A4', bbox_inches='tight', pad_inches=.5)\n",
      "/tmp/ipykernel_1574/2715231392.py:75: MatplotlibDeprecationWarning: savefig() got unexpected keyword argument \"papertype\" which is no longer supported as of 3.3 and will become an error two minor releases later\n",
      "  plt.savefig(pp, format='pdf', papertype='A4', bbox_inches='tight', pad_inches=.5)\n",
      "/tmp/ipykernel_1574/2715231392.py:75: MatplotlibDeprecationWarning: savefig() got unexpected keyword argument \"papertype\" which is no longer supported as of 3.3 and will become an error two minor releases later\n",
      "  plt.savefig(pp, format='pdf', papertype='A4', bbox_inches='tight', pad_inches=.5)\n",
      "/tmp/ipykernel_1574/2715231392.py:75: MatplotlibDeprecationWarning: savefig() got unexpected keyword argument \"papertype\" which is no longer supported as of 3.3 and will become an error two minor releases later\n",
      "  plt.savefig(pp, format='pdf', papertype='A4', bbox_inches='tight', pad_inches=.5)\n",
      "/tmp/ipykernel_1574/2715231392.py:75: MatplotlibDeprecationWarning: savefig() got unexpected keyword argument \"papertype\" which is no longer supported as of 3.3 and will become an error two minor releases later\n",
      "  plt.savefig(pp, format='pdf', papertype='A4', bbox_inches='tight', pad_inches=.5)\n",
      "/tmp/ipykernel_1574/2715231392.py:75: MatplotlibDeprecationWarning: savefig() got unexpected keyword argument \"papertype\" which is no longer supported as of 3.3 and will become an error two minor releases later\n",
      "  plt.savefig(pp, format='pdf', papertype='A4', bbox_inches='tight', pad_inches=.5)\n",
      "/tmp/ipykernel_1574/2715231392.py:75: MatplotlibDeprecationWarning: savefig() got unexpected keyword argument \"papertype\" which is no longer supported as of 3.3 and will become an error two minor releases later\n",
      "  plt.savefig(pp, format='pdf', papertype='A4', bbox_inches='tight', pad_inches=.5)\n",
      "/tmp/ipykernel_1574/2715231392.py:75: MatplotlibDeprecationWarning: savefig() got unexpected keyword argument \"papertype\" which is no longer supported as of 3.3 and will become an error two minor releases later\n",
      "  plt.savefig(pp, format='pdf', papertype='A4', bbox_inches='tight', pad_inches=.5)\n",
      "/tmp/ipykernel_1574/2715231392.py:75: MatplotlibDeprecationWarning: savefig() got unexpected keyword argument \"papertype\" which is no longer supported as of 3.3 and will become an error two minor releases later\n",
      "  plt.savefig(pp, format='pdf', papertype='A4', bbox_inches='tight', pad_inches=.5)\n",
      "/tmp/ipykernel_1574/2715231392.py:75: MatplotlibDeprecationWarning: savefig() got unexpected keyword argument \"papertype\" which is no longer supported as of 3.3 and will become an error two minor releases later\n",
      "  plt.savefig(pp, format='pdf', papertype='A4', bbox_inches='tight', pad_inches=.5)\n",
      "/tmp/ipykernel_1574/2715231392.py:75: MatplotlibDeprecationWarning: savefig() got unexpected keyword argument \"papertype\" which is no longer supported as of 3.3 and will become an error two minor releases later\n",
      "  plt.savefig(pp, format='pdf', papertype='A4', bbox_inches='tight', pad_inches=.5)\n",
      "/tmp/ipykernel_1574/2715231392.py:75: MatplotlibDeprecationWarning: savefig() got unexpected keyword argument \"papertype\" which is no longer supported as of 3.3 and will become an error two minor releases later\n",
      "  plt.savefig(pp, format='pdf', papertype='A4', bbox_inches='tight', pad_inches=.5)\n",
      "/tmp/ipykernel_1574/2715231392.py:75: MatplotlibDeprecationWarning: savefig() got unexpected keyword argument \"papertype\" which is no longer supported as of 3.3 and will become an error two minor releases later\n",
      "  plt.savefig(pp, format='pdf', papertype='A4', bbox_inches='tight', pad_inches=.5)\n",
      "/tmp/ipykernel_1574/2715231392.py:75: MatplotlibDeprecationWarning: savefig() got unexpected keyword argument \"papertype\" which is no longer supported as of 3.3 and will become an error two minor releases later\n",
      "  plt.savefig(pp, format='pdf', papertype='A4', bbox_inches='tight', pad_inches=.5)\n",
      "/tmp/ipykernel_1574/2715231392.py:75: MatplotlibDeprecationWarning: savefig() got unexpected keyword argument \"papertype\" which is no longer supported as of 3.3 and will become an error two minor releases later\n",
      "  plt.savefig(pp, format='pdf', papertype='A4', bbox_inches='tight', pad_inches=.5)\n",
      "/tmp/ipykernel_1574/2715231392.py:15: RuntimeWarning: More than 20 figures have been opened. Figures created through the pyplot interface (`matplotlib.pyplot.figure`) are retained until explicitly closed and may consume too much memory. (To control this warning, see the rcParam `figure.max_open_warning`).\n",
      "  fig = plt.figure(figsize=(8.27, 11.69), facecolor='white')\n",
      "/tmp/ipykernel_1574/2715231392.py:75: MatplotlibDeprecationWarning: savefig() got unexpected keyword argument \"papertype\" which is no longer supported as of 3.3 and will become an error two minor releases later\n",
      "  plt.savefig(pp, format='pdf', papertype='A4', bbox_inches='tight', pad_inches=.5)\n",
      "/tmp/ipykernel_1574/2715231392.py:75: MatplotlibDeprecationWarning: savefig() got unexpected keyword argument \"papertype\" which is no longer supported as of 3.3 and will become an error two minor releases later\n",
      "  plt.savefig(pp, format='pdf', papertype='A4', bbox_inches='tight', pad_inches=.5)\n",
      "/tmp/ipykernel_1574/2715231392.py:75: MatplotlibDeprecationWarning: savefig() got unexpected keyword argument \"papertype\" which is no longer supported as of 3.3 and will become an error two minor releases later\n",
      "  plt.savefig(pp, format='pdf', papertype='A4', bbox_inches='tight', pad_inches=.5)\n",
      "/tmp/ipykernel_1574/2715231392.py:75: MatplotlibDeprecationWarning: savefig() got unexpected keyword argument \"papertype\" which is no longer supported as of 3.3 and will become an error two minor releases later\n",
      "  plt.savefig(pp, format='pdf', papertype='A4', bbox_inches='tight', pad_inches=.5)\n",
      "/tmp/ipykernel_1574/2715231392.py:75: MatplotlibDeprecationWarning: savefig() got unexpected keyword argument \"papertype\" which is no longer supported as of 3.3 and will become an error two minor releases later\n",
      "  plt.savefig(pp, format='pdf', papertype='A4', bbox_inches='tight', pad_inches=.5)\n",
      "/tmp/ipykernel_1574/2715231392.py:75: MatplotlibDeprecationWarning: savefig() got unexpected keyword argument \"papertype\" which is no longer supported as of 3.3 and will become an error two minor releases later\n",
      "  plt.savefig(pp, format='pdf', papertype='A4', bbox_inches='tight', pad_inches=.5)\n",
      "/tmp/ipykernel_1574/2715231392.py:75: MatplotlibDeprecationWarning: savefig() got unexpected keyword argument \"papertype\" which is no longer supported as of 3.3 and will become an error two minor releases later\n",
      "  plt.savefig(pp, format='pdf', papertype='A4', bbox_inches='tight', pad_inches=.5)\n",
      "/tmp/ipykernel_1574/2715231392.py:75: MatplotlibDeprecationWarning: savefig() got unexpected keyword argument \"papertype\" which is no longer supported as of 3.3 and will become an error two minor releases later\n",
      "  plt.savefig(pp, format='pdf', papertype='A4', bbox_inches='tight', pad_inches=.5)\n",
      "/tmp/ipykernel_1574/2715231392.py:75: MatplotlibDeprecationWarning: savefig() got unexpected keyword argument \"papertype\" which is no longer supported as of 3.3 and will become an error two minor releases later\n",
      "  plt.savefig(pp, format='pdf', papertype='A4', bbox_inches='tight', pad_inches=.5)\n",
      "/tmp/ipykernel_1574/2715231392.py:75: MatplotlibDeprecationWarning: savefig() got unexpected keyword argument \"papertype\" which is no longer supported as of 3.3 and will become an error two minor releases later\n",
      "  plt.savefig(pp, format='pdf', papertype='A4', bbox_inches='tight', pad_inches=.5)\n",
      "/tmp/ipykernel_1574/2715231392.py:75: MatplotlibDeprecationWarning: savefig() got unexpected keyword argument \"papertype\" which is no longer supported as of 3.3 and will become an error two minor releases later\n",
      "  plt.savefig(pp, format='pdf', papertype='A4', bbox_inches='tight', pad_inches=.5)\n",
      "/tmp/ipykernel_1574/2715231392.py:75: MatplotlibDeprecationWarning: savefig() got unexpected keyword argument \"papertype\" which is no longer supported as of 3.3 and will become an error two minor releases later\n",
      "  plt.savefig(pp, format='pdf', papertype='A4', bbox_inches='tight', pad_inches=.5)\n",
      "/tmp/ipykernel_1574/2715231392.py:75: MatplotlibDeprecationWarning: savefig() got unexpected keyword argument \"papertype\" which is no longer supported as of 3.3 and will become an error two minor releases later\n",
      "  plt.savefig(pp, format='pdf', papertype='A4', bbox_inches='tight', pad_inches=.5)\n",
      "/tmp/ipykernel_1574/2715231392.py:75: MatplotlibDeprecationWarning: savefig() got unexpected keyword argument \"papertype\" which is no longer supported as of 3.3 and will become an error two minor releases later\n",
      "  plt.savefig(pp, format='pdf', papertype='A4', bbox_inches='tight', pad_inches=.5)\n",
      "/tmp/ipykernel_1574/2715231392.py:75: MatplotlibDeprecationWarning: savefig() got unexpected keyword argument \"papertype\" which is no longer supported as of 3.3 and will become an error two minor releases later\n",
      "  plt.savefig(pp, format='pdf', papertype='A4', bbox_inches='tight', pad_inches=.5)\n",
      "/tmp/ipykernel_1574/2715231392.py:75: MatplotlibDeprecationWarning: savefig() got unexpected keyword argument \"papertype\" which is no longer supported as of 3.3 and will become an error two minor releases later\n",
      "  plt.savefig(pp, format='pdf', papertype='A4', bbox_inches='tight', pad_inches=.5)\n",
      "/tmp/ipykernel_1574/2715231392.py:75: MatplotlibDeprecationWarning: savefig() got unexpected keyword argument \"papertype\" which is no longer supported as of 3.3 and will become an error two minor releases later\n",
      "  plt.savefig(pp, format='pdf', papertype='A4', bbox_inches='tight', pad_inches=.5)\n",
      "/tmp/ipykernel_1574/2715231392.py:75: MatplotlibDeprecationWarning: savefig() got unexpected keyword argument \"papertype\" which is no longer supported as of 3.3 and will become an error two minor releases later\n",
      "  plt.savefig(pp, format='pdf', papertype='A4', bbox_inches='tight', pad_inches=.5)\n",
      "/tmp/ipykernel_1574/2715231392.py:75: MatplotlibDeprecationWarning: savefig() got unexpected keyword argument \"papertype\" which is no longer supported as of 3.3 and will become an error two minor releases later\n",
      "  plt.savefig(pp, format='pdf', papertype='A4', bbox_inches='tight', pad_inches=.5)\n",
      "/tmp/ipykernel_1574/2715231392.py:75: MatplotlibDeprecationWarning: savefig() got unexpected keyword argument \"papertype\" which is no longer supported as of 3.3 and will become an error two minor releases later\n",
      "  plt.savefig(pp, format='pdf', papertype='A4', bbox_inches='tight', pad_inches=.5)\n",
      "/tmp/ipykernel_1574/2715231392.py:75: MatplotlibDeprecationWarning: savefig() got unexpected keyword argument \"papertype\" which is no longer supported as of 3.3 and will become an error two minor releases later\n",
      "  plt.savefig(pp, format='pdf', papertype='A4', bbox_inches='tight', pad_inches=.5)\n",
      "/tmp/ipykernel_1574/2715231392.py:75: MatplotlibDeprecationWarning: savefig() got unexpected keyword argument \"papertype\" which is no longer supported as of 3.3 and will become an error two minor releases later\n",
      "  plt.savefig(pp, format='pdf', papertype='A4', bbox_inches='tight', pad_inches=.5)\n",
      "/tmp/ipykernel_1574/2715231392.py:75: MatplotlibDeprecationWarning: savefig() got unexpected keyword argument \"papertype\" which is no longer supported as of 3.3 and will become an error two minor releases later\n",
      "  plt.savefig(pp, format='pdf', papertype='A4', bbox_inches='tight', pad_inches=.5)\n",
      "/tmp/ipykernel_1574/2715231392.py:75: MatplotlibDeprecationWarning: savefig() got unexpected keyword argument \"papertype\" which is no longer supported as of 3.3 and will become an error two minor releases later\n",
      "  plt.savefig(pp, format='pdf', papertype='A4', bbox_inches='tight', pad_inches=.5)\n",
      "/tmp/ipykernel_1574/2715231392.py:75: MatplotlibDeprecationWarning: savefig() got unexpected keyword argument \"papertype\" which is no longer supported as of 3.3 and will become an error two minor releases later\n",
      "  plt.savefig(pp, format='pdf', papertype='A4', bbox_inches='tight', pad_inches=.5)\n",
      "/tmp/ipykernel_1574/2715231392.py:75: MatplotlibDeprecationWarning: savefig() got unexpected keyword argument \"papertype\" which is no longer supported as of 3.3 and will become an error two minor releases later\n",
      "  plt.savefig(pp, format='pdf', papertype='A4', bbox_inches='tight', pad_inches=.5)\n",
      "/tmp/ipykernel_1574/2715231392.py:75: MatplotlibDeprecationWarning: savefig() got unexpected keyword argument \"papertype\" which is no longer supported as of 3.3 and will become an error two minor releases later\n",
      "  plt.savefig(pp, format='pdf', papertype='A4', bbox_inches='tight', pad_inches=.5)\n",
      "/tmp/ipykernel_1574/2715231392.py:75: MatplotlibDeprecationWarning: savefig() got unexpected keyword argument \"papertype\" which is no longer supported as of 3.3 and will become an error two minor releases later\n",
      "  plt.savefig(pp, format='pdf', papertype='A4', bbox_inches='tight', pad_inches=.5)\n",
      "/tmp/ipykernel_1574/2715231392.py:75: MatplotlibDeprecationWarning: savefig() got unexpected keyword argument \"papertype\" which is no longer supported as of 3.3 and will become an error two minor releases later\n",
      "  plt.savefig(pp, format='pdf', papertype='A4', bbox_inches='tight', pad_inches=.5)\n"
     ]
    },
    {
     "data": {
      "text/plain": [
       "<Figure size 595.44x841.68 with 0 Axes>"
      ]
     },
     "metadata": {},
     "output_type": "display_data"
    },
    {
     "data": {
      "text/plain": [
       "<Figure size 595.44x841.68 with 0 Axes>"
      ]
     },
     "metadata": {},
     "output_type": "display_data"
    },
    {
     "data": {
      "text/plain": [
       "<Figure size 595.44x841.68 with 0 Axes>"
      ]
     },
     "metadata": {},
     "output_type": "display_data"
    },
    {
     "data": {
      "text/plain": [
       "<Figure size 595.44x841.68 with 0 Axes>"
      ]
     },
     "metadata": {},
     "output_type": "display_data"
    },
    {
     "data": {
      "text/plain": [
       "<Figure size 595.44x841.68 with 0 Axes>"
      ]
     },
     "metadata": {},
     "output_type": "display_data"
    },
    {
     "data": {
      "text/plain": [
       "<Figure size 595.44x841.68 with 0 Axes>"
      ]
     },
     "metadata": {},
     "output_type": "display_data"
    },
    {
     "data": {
      "text/plain": [
       "<Figure size 595.44x841.68 with 0 Axes>"
      ]
     },
     "metadata": {},
     "output_type": "display_data"
    },
    {
     "data": {
      "text/plain": [
       "<Figure size 595.44x841.68 with 0 Axes>"
      ]
     },
     "metadata": {},
     "output_type": "display_data"
    },
    {
     "data": {
      "text/plain": [
       "<Figure size 595.44x841.68 with 0 Axes>"
      ]
     },
     "metadata": {},
     "output_type": "display_data"
    },
    {
     "data": {
      "text/plain": [
       "<Figure size 595.44x841.68 with 0 Axes>"
      ]
     },
     "metadata": {},
     "output_type": "display_data"
    },
    {
     "data": {
      "text/plain": [
       "<Figure size 595.44x841.68 with 0 Axes>"
      ]
     },
     "metadata": {},
     "output_type": "display_data"
    },
    {
     "data": {
      "text/plain": [
       "<Figure size 595.44x841.68 with 0 Axes>"
      ]
     },
     "metadata": {},
     "output_type": "display_data"
    },
    {
     "data": {
      "text/plain": [
       "<Figure size 595.44x841.68 with 0 Axes>"
      ]
     },
     "metadata": {},
     "output_type": "display_data"
    },
    {
     "data": {
      "text/plain": [
       "<Figure size 595.44x841.68 with 0 Axes>"
      ]
     },
     "metadata": {},
     "output_type": "display_data"
    },
    {
     "data": {
      "text/plain": [
       "<Figure size 595.44x841.68 with 0 Axes>"
      ]
     },
     "metadata": {},
     "output_type": "display_data"
    },
    {
     "data": {
      "text/plain": [
       "<Figure size 595.44x841.68 with 0 Axes>"
      ]
     },
     "metadata": {},
     "output_type": "display_data"
    },
    {
     "data": {
      "text/plain": [
       "<Figure size 595.44x841.68 with 0 Axes>"
      ]
     },
     "metadata": {},
     "output_type": "display_data"
    },
    {
     "data": {
      "text/plain": [
       "<Figure size 595.44x841.68 with 0 Axes>"
      ]
     },
     "metadata": {},
     "output_type": "display_data"
    },
    {
     "data": {
      "text/plain": [
       "<Figure size 595.44x841.68 with 0 Axes>"
      ]
     },
     "metadata": {},
     "output_type": "display_data"
    },
    {
     "data": {
      "text/plain": [
       "<Figure size 595.44x841.68 with 0 Axes>"
      ]
     },
     "metadata": {},
     "output_type": "display_data"
    },
    {
     "data": {
      "text/plain": [
       "<Figure size 595.44x841.68 with 0 Axes>"
      ]
     },
     "metadata": {},
     "output_type": "display_data"
    },
    {
     "data": {
      "text/plain": [
       "<Figure size 595.44x841.68 with 0 Axes>"
      ]
     },
     "metadata": {},
     "output_type": "display_data"
    },
    {
     "data": {
      "text/plain": [
       "<Figure size 595.44x841.68 with 0 Axes>"
      ]
     },
     "metadata": {},
     "output_type": "display_data"
    },
    {
     "data": {
      "text/plain": [
       "<Figure size 595.44x841.68 with 0 Axes>"
      ]
     },
     "metadata": {},
     "output_type": "display_data"
    },
    {
     "data": {
      "text/plain": [
       "<Figure size 595.44x841.68 with 0 Axes>"
      ]
     },
     "metadata": {},
     "output_type": "display_data"
    },
    {
     "data": {
      "text/plain": [
       "<Figure size 595.44x841.68 with 0 Axes>"
      ]
     },
     "metadata": {},
     "output_type": "display_data"
    },
    {
     "data": {
      "text/plain": [
       "<Figure size 595.44x841.68 with 0 Axes>"
      ]
     },
     "metadata": {},
     "output_type": "display_data"
    },
    {
     "data": {
      "text/plain": [
       "<Figure size 595.44x841.68 with 0 Axes>"
      ]
     },
     "metadata": {},
     "output_type": "display_data"
    },
    {
     "data": {
      "text/plain": [
       "<Figure size 595.44x841.68 with 0 Axes>"
      ]
     },
     "metadata": {},
     "output_type": "display_data"
    },
    {
     "data": {
      "text/plain": [
       "<Figure size 595.44x841.68 with 0 Axes>"
      ]
     },
     "metadata": {},
     "output_type": "display_data"
    },
    {
     "data": {
      "text/plain": [
       "<Figure size 595.44x841.68 with 0 Axes>"
      ]
     },
     "metadata": {},
     "output_type": "display_data"
    },
    {
     "data": {
      "text/plain": [
       "<Figure size 595.44x841.68 with 0 Axes>"
      ]
     },
     "metadata": {},
     "output_type": "display_data"
    },
    {
     "data": {
      "text/plain": [
       "<Figure size 595.44x841.68 with 0 Axes>"
      ]
     },
     "metadata": {},
     "output_type": "display_data"
    },
    {
     "data": {
      "text/plain": [
       "<Figure size 595.44x841.68 with 0 Axes>"
      ]
     },
     "metadata": {},
     "output_type": "display_data"
    },
    {
     "data": {
      "text/plain": [
       "<Figure size 595.44x841.68 with 0 Axes>"
      ]
     },
     "metadata": {},
     "output_type": "display_data"
    },
    {
     "data": {
      "text/plain": [
       "<Figure size 595.44x841.68 with 0 Axes>"
      ]
     },
     "metadata": {},
     "output_type": "display_data"
    },
    {
     "data": {
      "text/plain": [
       "<Figure size 595.44x841.68 with 0 Axes>"
      ]
     },
     "metadata": {},
     "output_type": "display_data"
    },
    {
     "data": {
      "text/plain": [
       "<Figure size 595.44x841.68 with 0 Axes>"
      ]
     },
     "metadata": {},
     "output_type": "display_data"
    },
    {
     "data": {
      "text/plain": [
       "<Figure size 595.44x841.68 with 0 Axes>"
      ]
     },
     "metadata": {},
     "output_type": "display_data"
    },
    {
     "data": {
      "text/plain": [
       "<Figure size 595.44x841.68 with 0 Axes>"
      ]
     },
     "metadata": {},
     "output_type": "display_data"
    },
    {
     "data": {
      "text/plain": [
       "<Figure size 595.44x841.68 with 0 Axes>"
      ]
     },
     "metadata": {},
     "output_type": "display_data"
    },
    {
     "data": {
      "text/plain": [
       "<Figure size 595.44x841.68 with 0 Axes>"
      ]
     },
     "metadata": {},
     "output_type": "display_data"
    },
    {
     "data": {
      "text/plain": [
       "<Figure size 595.44x841.68 with 0 Axes>"
      ]
     },
     "metadata": {},
     "output_type": "display_data"
    },
    {
     "data": {
      "text/plain": [
       "<Figure size 595.44x841.68 with 0 Axes>"
      ]
     },
     "metadata": {},
     "output_type": "display_data"
    },
    {
     "data": {
      "text/plain": [
       "<Figure size 595.44x841.68 with 0 Axes>"
      ]
     },
     "metadata": {},
     "output_type": "display_data"
    },
    {
     "data": {
      "text/plain": [
       "<Figure size 595.44x841.68 with 0 Axes>"
      ]
     },
     "metadata": {},
     "output_type": "display_data"
    },
    {
     "data": {
      "text/plain": [
       "<Figure size 595.44x841.68 with 0 Axes>"
      ]
     },
     "metadata": {},
     "output_type": "display_data"
    },
    {
     "data": {
      "text/plain": [
       "<Figure size 595.44x841.68 with 0 Axes>"
      ]
     },
     "metadata": {},
     "output_type": "display_data"
    },
    {
     "data": {
      "text/plain": [
       "<Figure size 595.44x841.68 with 0 Axes>"
      ]
     },
     "metadata": {},
     "output_type": "display_data"
    }
   ],
   "source": [
    "mosaic = \"\"\"\n",
    "    .C\n",
    "    AA\n",
    "    AA\n",
    "    \"\"\"\n",
    "\n",
    "pp = PdfPages('/home/users/pwilkes/LPG01.plot-map.pdf')\n",
    "\n",
    "# plt.style.use('classic')\n",
    "\n",
    "for I, row in enumerate(sorted(quad_boundary.itertuples())):\n",
    "    \n",
    "#     if row.quad_N not in [22]: continue\n",
    "    \n",
    "    fig = plt.figure(figsize=(8.27, 11.69), facecolor='white')\n",
    "    ax_dict = fig.subplot_mosaic(mosaic)\n",
    "    \n",
    "    ax = ax_dict['A']\n",
    "    ax.set_facecolor('lightgrey')\n",
    "    \n",
    "    for tile in sorted(ti.loc[ti.within(row.geometry.buffer(6))].tile):\n",
    "        \n",
    "        for i, tree in enumerate(glob.glob(f'tmp/?.?/{tile:03}_T*on.ply')):\n",
    "            \n",
    "            tmp = ply_io.read_ply(tree)\n",
    "            tmp = tmp.loc[tmp.wood == 1]\n",
    "            tmp.loc[:, 'a'] = 1\n",
    "            tmp[['x', 'y']] = np.dot(M, tmp[['x', 'y', 'a']].T).T[:, :2]\n",
    "            \n",
    "            tmp.z -= tmp.z.min()\n",
    "            tmp = tmp.loc[tmp.z.between(2, 3)]\n",
    "            if len(tmp) == 0: continue\n",
    "            tmp.plot.scatter('x', 'y', marker='.',\n",
    "                             c=f'C{np.random.randint(0, 255)}',\n",
    "                             edgecolor='none',\n",
    "                             s=5, ax=ax, \n",
    "                             zorder=3, clip_on=True)\n",
    "            N = os.path.split(tree)[1].split('.')[0]\n",
    "            ax.text(np.percentile(tmp.x, 95), \n",
    "                    np.percentile(tmp.y, 95), \n",
    "                    f'{N} : ......', clip_on=True)\n",
    "            \n",
    "#         t_slice = ply_io.read_ply(f'extraction/fsct/{tile:03}.downsample.segmented.ply')[['x', 'y', 'n_z', 'label']][::10]\n",
    "#         t_slice = t_slice.loc[t_slice.n_z.between(2, 3)]\n",
    "#         t_slice.plot.scatter('x', 'y', s=.1, c='grey', ax=ax, zorder=2)\n",
    "\n",
    "    sp.loc[sp.sp%2 == 1].plot.scatter('x', 'y', ax=ax, s=100, lw=.5, c='r', marker='+')\n",
    "    [ax.text(r.x + .25, r.y + .25, f'({r.x:.0f},{r.y:.0f})', \n",
    "             clip_on=True, style='italic', fontsize=8) for r in sp.loc[sp.sp%2 == 1].itertuples()]\n",
    "        \n",
    "    p = Polygon(sp.unary_union.minimum_rotated_rectangle.exterior)\n",
    "    BOUNDS = gp.GeoDataFrame(index=[0], geometry=[p])\n",
    "    BOUNDS.plot(ax=ax, facecolor='white', edgecolor='r', zorder=0)\n",
    "    \n",
    "    quad_boundary.plot(ax=ax, facecolor='none', ls='--', lw=.5, zorder=1)\n",
    "\n",
    "    bounds = quad_boundary.loc[quad_boundary.quad_N == row.quad_N].bounds\n",
    "    ax.set_xlim(bounds.minx.item() - 2, bounds.maxx.item() + 2)\n",
    "    ax.set_ylim(bounds.miny.item() - 2, bounds.maxy.item() + 2)\n",
    "    \n",
    "    fig.text(.15, .7, f'{row.quad_N:02}', fontsize=150)\n",
    "\n",
    "    ax = ax_dict['C']\n",
    "#     ax.axis('off')\n",
    "\n",
    "    ax.plot(*sp.unary_union.minimum_rotated_rectangle.exterior.xy, c='r', lw=1, zorder=1)\n",
    "#     ax.plot(*sp.unary_union.minimum_rotated_rectangle.exterior.buffer(5).xy, c='r', lw=1, zorder=1)\n",
    "    \n",
    "    quad_boundary.loc[quad_boundary.intersects(sp.unary_union.convex_hull.buffer(5))].plot(facecolor='none', ax=ax, zorder=1)\n",
    "    XXX = [ax.text(x, y, f'{t:02}', ha='center', va='center', clip_on=True) for x, y, t in zip(quad_boundary.centroid.x, \n",
    "                                               quad_boundary.centroid.y,\n",
    "                                               quad_boundary.quad_N)]\n",
    "    quad_boundary.loc[quad_boundary.quad_N == row.quad_N].plot(color='g', ax=ax, zorder=0)\n",
    "    \n",
    "    plt.savefig(pp, format='pdf', papertype='A4', bbox_inches='tight', pad_inches=.5)\n",
    "    \n",
    "#     break\n",
    "    fig.clf()\n",
    "\n",
    "#     if I == 3: break\n",
    "    \n",
    "pp.close()"
   ]
  },
  {
   "cell_type": "code",
   "execution_count": null,
   "id": "0e52f720",
   "metadata": {},
   "outputs": [
    {
     "data": {
      "text/plain": [
       "<AxesSubplot:>"
      ]
     },
     "execution_count": 55,
     "metadata": {},
     "output_type": "execute_result"
    },
    {
     "data": {
      "image/png": "[encoded data removed]",
      "text/plain": [
       "<Figure size 432x288 with 1 Axes>"
      ]
     },
     "metadata": {
      "needs_background": "light"
     },
     "output_type": "display_data"
    }
   ],
   "source": [
    "t_slice = ply_io.read_ply(f'extraction/fsct/{tile:03}.downsample.segmented.ply')"
   ]
  },
  {
   "cell_type": "code",
   "execution_count": 242,
   "id": "e6c097b2",
   "metadata": {},
   "outputs": [
    {
     "data": {
      "text/html": [
       "<div>\n",
       "<style scoped>\n",
       "    .dataframe tbody tr th:only-of-type {\n",
       "        vertical-align: middle;\n",
       "    }\n",
       "\n",
       "    .dataframe tbody tr th {\n",
       "        vertical-align: top;\n",
       "    }\n",
       "\n",
       "    .dataframe thead th {\n",
       "        text-align: right;\n",
       "    }\n",
       "</style>\n",
       "<table border=\"1\" class=\"dataframe\">\n",
       "  <thead>\n",
       "    <tr style=\"text-align: right;\">\n",
       "      <th></th>\n",
       "      <th>x</th>\n",
       "      <th>y</th>\n",
       "      <th>z</th>\n",
       "      <th>n_z</th>\n",
       "      <th>label</th>\n",
       "      <th>pTerrain</th>\n",
       "      <th>pLeaf</th>\n",
       "      <th>pCWD</th>\n",
       "      <th>pWood</th>\n",
       "      <th>refl</th>\n",
       "      <th>dev</th>\n",
       "      <th>returnnumber</th>\n",
       "      <th>numberofreturns</th>\n",
       "      <th>sp</th>\n",
       "    </tr>\n",
       "  </thead>\n",
       "  <tbody>\n",
       "    <tr>\n",
       "      <th>0</th>\n",
       "      <td>0.001087</td>\n",
       "      <td>0.008159</td>\n",
       "      <td>6.141824</td>\n",
       "      <td>7.642528</td>\n",
       "      <td>1.0</td>\n",
       "      <td>2.134474e-04</td>\n",
       "      <td>0.565071</td>\n",
       "      <td>5.936619e-04</td>\n",
       "      <td>0.434355</td>\n",
       "      <td>-17.849430</td>\n",
       "      <td>8.0</td>\n",
       "      <td>2.0</td>\n",
       "      <td>2.0</td>\n",
       "      <td>4.0</td>\n",
       "    </tr>\n",
       "    <tr>\n",
       "      <th>1</th>\n",
       "      <td>0.000624</td>\n",
       "      <td>0.008960</td>\n",
       "      <td>6.155936</td>\n",
       "      <td>7.656640</td>\n",
       "      <td>1.0</td>\n",
       "      <td>2.134474e-04</td>\n",
       "      <td>0.580842</td>\n",
       "      <td>5.936619e-04</td>\n",
       "      <td>0.418584</td>\n",
       "      <td>-14.106901</td>\n",
       "      <td>0.0</td>\n",
       "      <td>2.0</td>\n",
       "      <td>2.0</td>\n",
       "      <td>36.0</td>\n",
       "    </tr>\n",
       "    <tr>\n",
       "      <th>2</th>\n",
       "      <td>0.018685</td>\n",
       "      <td>0.005689</td>\n",
       "      <td>8.424848</td>\n",
       "      <td>9.925552</td>\n",
       "      <td>1.0</td>\n",
       "      <td>6.670832e-04</td>\n",
       "      <td>0.700879</td>\n",
       "      <td>1.346367e-03</td>\n",
       "      <td>0.299002</td>\n",
       "      <td>-3.830694</td>\n",
       "      <td>1.0</td>\n",
       "      <td>1.0</td>\n",
       "      <td>1.0</td>\n",
       "      <td>44.0</td>\n",
       "    </tr>\n",
       "    <tr>\n",
       "      <th>3</th>\n",
       "      <td>0.014830</td>\n",
       "      <td>0.001338</td>\n",
       "      <td>8.434098</td>\n",
       "      <td>9.934802</td>\n",
       "      <td>1.0</td>\n",
       "      <td>3.906435e-04</td>\n",
       "      <td>0.654240</td>\n",
       "      <td>1.017259e-03</td>\n",
       "      <td>0.345403</td>\n",
       "      <td>-7.630785</td>\n",
       "      <td>1.0</td>\n",
       "      <td>1.0</td>\n",
       "      <td>2.0</td>\n",
       "      <td>43.0</td>\n",
       "    </tr>\n",
       "    <tr>\n",
       "      <th>4</th>\n",
       "      <td>0.019925</td>\n",
       "      <td>0.016640</td>\n",
       "      <td>14.516026</td>\n",
       "      <td>16.016731</td>\n",
       "      <td>1.0</td>\n",
       "      <td>4.671420e-04</td>\n",
       "      <td>0.769155</td>\n",
       "      <td>7.689629e-04</td>\n",
       "      <td>0.230614</td>\n",
       "      <td>-15.350503</td>\n",
       "      <td>5.0</td>\n",
       "      <td>1.0</td>\n",
       "      <td>2.0</td>\n",
       "      <td>40.0</td>\n",
       "    </tr>\n",
       "    <tr>\n",
       "      <th>...</th>\n",
       "      <td>...</td>\n",
       "      <td>...</td>\n",
       "      <td>...</td>\n",
       "      <td>...</td>\n",
       "      <td>...</td>\n",
       "      <td>...</td>\n",
       "      <td>...</td>\n",
       "      <td>...</td>\n",
       "      <td>...</td>\n",
       "      <td>...</td>\n",
       "      <td>...</td>\n",
       "      <td>...</td>\n",
       "      <td>...</td>\n",
       "      <td>...</td>\n",
       "    </tr>\n",
       "    <tr>\n",
       "      <th>2516610</th>\n",
       "      <td>9.996228</td>\n",
       "      <td>9.998403</td>\n",
       "      <td>7.659415</td>\n",
       "      <td>13.158697</td>\n",
       "      <td>1.0</td>\n",
       "      <td>7.997727e-05</td>\n",
       "      <td>0.785935</td>\n",
       "      <td>5.782910e-04</td>\n",
       "      <td>0.213154</td>\n",
       "      <td>-17.251310</td>\n",
       "      <td>5.0</td>\n",
       "      <td>1.0</td>\n",
       "      <td>1.0</td>\n",
       "      <td>4.0</td>\n",
       "    </tr>\n",
       "    <tr>\n",
       "      <th>2516611</th>\n",
       "      <td>9.981854</td>\n",
       "      <td>9.982386</td>\n",
       "      <td>7.935742</td>\n",
       "      <td>13.435023</td>\n",
       "      <td>1.0</td>\n",
       "      <td>2.489057e-04</td>\n",
       "      <td>0.905957</td>\n",
       "      <td>1.393002e-03</td>\n",
       "      <td>0.089537</td>\n",
       "      <td>-18.354979</td>\n",
       "      <td>2.0</td>\n",
       "      <td>1.0</td>\n",
       "      <td>2.0</td>\n",
       "      <td>6.0</td>\n",
       "    </tr>\n",
       "    <tr>\n",
       "      <th>2516612</th>\n",
       "      <td>9.984690</td>\n",
       "      <td>9.997155</td>\n",
       "      <td>8.196441</td>\n",
       "      <td>13.695722</td>\n",
       "      <td>1.0</td>\n",
       "      <td>3.616375e-05</td>\n",
       "      <td>0.918229</td>\n",
       "      <td>7.665435e-04</td>\n",
       "      <td>0.080985</td>\n",
       "      <td>-14.474897</td>\n",
       "      <td>4.0</td>\n",
       "      <td>1.0</td>\n",
       "      <td>2.0</td>\n",
       "      <td>6.0</td>\n",
       "    </tr>\n",
       "    <tr>\n",
       "      <th>2516613</th>\n",
       "      <td>9.987462</td>\n",
       "      <td>9.989606</td>\n",
       "      <td>55.503517</td>\n",
       "      <td>61.002799</td>\n",
       "      <td>3.0</td>\n",
       "      <td>8.555830e-09</td>\n",
       "      <td>0.070942</td>\n",
       "      <td>3.773021e-07</td>\n",
       "      <td>0.929058</td>\n",
       "      <td>-11.647905</td>\n",
       "      <td>3.0</td>\n",
       "      <td>1.0</td>\n",
       "      <td>2.0</td>\n",
       "      <td>40.0</td>\n",
       "    </tr>\n",
       "    <tr>\n",
       "      <th>2516614</th>\n",
       "      <td>9.987553</td>\n",
       "      <td>9.991750</td>\n",
       "      <td>55.637596</td>\n",
       "      <td>61.136878</td>\n",
       "      <td>3.0</td>\n",
       "      <td>1.097805e-08</td>\n",
       "      <td>0.155876</td>\n",
       "      <td>1.301924e-06</td>\n",
       "      <td>0.844124</td>\n",
       "      <td>-16.304276</td>\n",
       "      <td>0.0</td>\n",
       "      <td>2.0</td>\n",
       "      <td>2.0</td>\n",
       "      <td>90.0</td>\n",
       "    </tr>\n",
       "  </tbody>\n",
       "</table>\n",
       "<p>2516615 rows × 14 columns</p>\n",
       "</div>"
      ],
      "text/plain": [
       "                x         y          z        n_z  label      pTerrain  \\\n",
       "0        0.001087  0.008159   6.141824   7.642528    1.0  2.134474e-04   \n",
       "1        0.000624  0.008960   6.155936   7.656640    1.0  2.134474e-04   \n",
       "2        0.018685  0.005689   8.424848   9.925552    1.0  6.670832e-04   \n",
       "3        0.014830  0.001338   8.434098   9.934802    1.0  3.906435e-04   \n",
       "4        0.019925  0.016640  14.516026  16.016731    1.0  4.671420e-04   \n",
       "...           ...       ...        ...        ...    ...           ...   \n",
       "2516610  9.996228  9.998403   7.659415  13.158697    1.0  7.997727e-05   \n",
       "2516611  9.981854  9.982386   7.935742  13.435023    1.0  2.489057e-04   \n",
       "2516612  9.984690  9.997155   8.196441  13.695722    1.0  3.616375e-05   \n",
       "2516613  9.987462  9.989606  55.503517  61.002799    3.0  8.555830e-09   \n",
       "2516614  9.987553  9.991750  55.637596  61.136878    3.0  1.097805e-08   \n",
       "\n",
       "            pLeaf          pCWD     pWood       refl  dev  returnnumber  \\\n",
       "0        0.565071  5.936619e-04  0.434355 -17.849430  8.0           2.0   \n",
       "1        0.580842  5.936619e-04  0.418584 -14.106901  0.0           2.0   \n",
       "2        0.700879  1.346367e-03  0.299002  -3.830694  1.0           1.0   \n",
       "3        0.654240  1.017259e-03  0.345403  -7.630785  1.0           1.0   \n",
       "4        0.769155  7.689629e-04  0.230614 -15.350503  5.0           1.0   \n",
       "...           ...           ...       ...        ...  ...           ...   \n",
       "2516610  0.785935  5.782910e-04  0.213154 -17.251310  5.0           1.0   \n",
       "2516611  0.905957  1.393002e-03  0.089537 -18.354979  2.0           1.0   \n",
       "2516612  0.918229  7.665435e-04  0.080985 -14.474897  4.0           1.0   \n",
       "2516613  0.070942  3.773021e-07  0.929058 -11.647905  3.0           1.0   \n",
       "2516614  0.155876  1.301924e-06  0.844124 -16.304276  0.0           2.0   \n",
       "\n",
       "         numberofreturns    sp  \n",
       "0                    2.0   4.0  \n",
       "1                    2.0  36.0  \n",
       "2                    1.0  44.0  \n",
       "3                    2.0  43.0  \n",
       "4                    2.0  40.0  \n",
       "...                  ...   ...  \n",
       "2516610              1.0   4.0  \n",
       "2516611              2.0   6.0  \n",
       "2516612              2.0   6.0  \n",
       "2516613              2.0  40.0  \n",
       "2516614              2.0  90.0  \n",
       "\n",
       "[2516615 rows x 14 columns]"
      ]
     },
     "execution_count": 242,
     "metadata": {},
     "output_type": "execute_result"
    }
   ],
   "source": [
    "t_slice"
   ]
  },
  {
   "cell_type": "code",
   "execution_count": 235,
   "id": "0f36ba04",
   "metadata": {},
   "outputs": [
    {
     "data": {
      "text/plain": [
       "<AxesSubplot:xlabel='x', ylabel='y'>"
      ]
     },
     "execution_count": 235,
     "metadata": {},
     "output_type": "execute_result"
    },
    {
     "data": {
      "image/png": "[encoded data removed]",
      "text/plain": [
       "<Figure size 432x288 with 1 Axes>"
      ]
     },
     "metadata": {
      "needs_background": "light"
     },
     "output_type": "display_data"
    }
   ],
   "source": [
    "t_slice.plot.scatter('x', 'y', s=1, c='grey')"
   ]
  },
  {
   "cell_type": "code",
   "execution_count": 135,
   "id": "ab4cb409",
   "metadata": {},
   "outputs": [],
   "source": [
    "bounds = quad_boundary.loc[quad_boundary.quad_N == 20].bounds"
   ]
  },
  {
   "cell_type": "code",
   "execution_count": 136,
   "id": "33ebfd23",
   "metadata": {},
   "outputs": [
    {
     "data": {
      "text/plain": [
       "-30.0"
      ]
     },
     "execution_count": 136,
     "metadata": {},
     "output_type": "execute_result"
    }
   ],
   "source": [
    "bounds.minx.item()"
   ]
  },
  {
   "cell_type": "code",
   "execution_count": 139,
   "id": "7a7546b7",
   "metadata": {},
   "outputs": [
    {
     "data": {
      "text/plain": [
       "(-72.0, -48.0)"
      ]
     },
     "execution_count": 139,
     "metadata": {},
     "output_type": "execute_result"
    },
    {
     "data": {
      "image/png": "[encoded data removed]",
      "text/plain": [
       "<Figure size 1440x1440 with 1 Axes>"
      ]
     },
     "metadata": {
      "needs_background": "light"
     },
     "output_type": "display_data"
    }
   ],
   "source": [
    "ax = trees.loc[trees.z.between(1.3, 1.4)].plot.scatter('x', 'y', \n",
    "                                                       c='g', \n",
    "                                                       figsize=(20, 20), \n",
    "                                                       colorbar=False, s=1)\n"
   ]
  },
  {
   "cell_type": "code",
   "execution_count": 161,
   "id": "52a1c88d",
   "metadata": {},
   "outputs": [
    {
     "ename": "AttributeError",
     "evalue": "'DataFrame' object has no attribute 'total_bounds'",
     "output_type": "error",
     "traceback": [
      "\u001B[0;31m---------------------------------------------------------------------------\u001B[0m",
      "\u001B[0;31mAttributeError\u001B[0m                            Traceback (most recent call last)",
      "\u001B[0;32m/tmp/ipykernel_28934/3600187464.py\u001B[0m in \u001B[0;36m<module>\u001B[0;34m\u001B[0m\n\u001B[0;32m----> 1\u001B[0;31m \u001B[0mxmin\u001B[0m\u001B[0;34m,\u001B[0m \u001B[0mymin\u001B[0m\u001B[0;34m,\u001B[0m \u001B[0mxmax\u001B[0m\u001B[0;34m,\u001B[0m \u001B[0mymax\u001B[0m \u001B[0;34m=\u001B[0m \u001B[0mquad_boundary\u001B[0m\u001B[0;34m.\u001B[0m\u001B[0mtotal_bounds\u001B[0m\u001B[0;34m\u001B[0m\u001B[0;34m\u001B[0m\u001B[0m\n\u001B[0m\u001B[1;32m      2\u001B[0m \u001B[0;34m\u001B[0m\u001B[0m\n\u001B[1;32m      3\u001B[0m \u001B[0mlength\u001B[0m \u001B[0;34m=\u001B[0m \u001B[0;36m20\u001B[0m\u001B[0;34m\u001B[0m\u001B[0;34m\u001B[0m\u001B[0m\n\u001B[1;32m      4\u001B[0m \u001B[0;34m\u001B[0m\u001B[0m\n\u001B[1;32m      5\u001B[0m \u001B[0mcols\u001B[0m \u001B[0;34m=\u001B[0m \u001B[0mlist\u001B[0m\u001B[0;34m(\u001B[0m\u001B[0mnp\u001B[0m\u001B[0;34m.\u001B[0m\u001B[0marange\u001B[0m\u001B[0;34m(\u001B[0m\u001B[0mxmin\u001B[0m\u001B[0;34m,\u001B[0m \u001B[0mxmax\u001B[0m \u001B[0;34m+\u001B[0m \u001B[0mlength\u001B[0m\u001B[0;34m,\u001B[0m \u001B[0mlength\u001B[0m\u001B[0;34m)\u001B[0m\u001B[0;34m)\u001B[0m\u001B[0;34m\u001B[0m\u001B[0;34m\u001B[0m\u001B[0m\n",
      "\u001B[0;32m~/opt/miniconda/envs/fsct/lib/python3.8/site-packages/pandas/core/generic.py\u001B[0m in \u001B[0;36m__getattr__\u001B[0;34m(self, name)\u001B[0m\n\u001B[1;32m   5485\u001B[0m         ):\n\u001B[1;32m   5486\u001B[0m             \u001B[0;32mreturn\u001B[0m \u001B[0mself\u001B[0m\u001B[0;34m[\u001B[0m\u001B[0mname\u001B[0m\u001B[0;34m]\u001B[0m\u001B[0;34m\u001B[0m\u001B[0;34m\u001B[0m\u001B[0m\n\u001B[0;32m-> 5487\u001B[0;31m         \u001B[0;32mreturn\u001B[0m \u001B[0mobject\u001B[0m\u001B[0;34m.\u001B[0m\u001B[0m__getattribute__\u001B[0m\u001B[0;34m(\u001B[0m\u001B[0mself\u001B[0m\u001B[0;34m,\u001B[0m \u001B[0mname\u001B[0m\u001B[0;34m)\u001B[0m\u001B[0;34m\u001B[0m\u001B[0;34m\u001B[0m\u001B[0m\n\u001B[0m\u001B[1;32m   5488\u001B[0m \u001B[0;34m\u001B[0m\u001B[0m\n\u001B[1;32m   5489\u001B[0m     \u001B[0;32mdef\u001B[0m \u001B[0m__setattr__\u001B[0m\u001B[0;34m(\u001B[0m\u001B[0mself\u001B[0m\u001B[0;34m,\u001B[0m \u001B[0mname\u001B[0m\u001B[0;34m:\u001B[0m \u001B[0mstr\u001B[0m\u001B[0;34m,\u001B[0m \u001B[0mvalue\u001B[0m\u001B[0;34m)\u001B[0m \u001B[0;34m->\u001B[0m \u001B[0;32mNone\u001B[0m\u001B[0;34m:\u001B[0m\u001B[0;34m\u001B[0m\u001B[0;34m\u001B[0m\u001B[0m\n",
      "\u001B[0;31mAttributeError\u001B[0m: 'DataFrame' object has no attribute 'total_bounds'"
     ]
    }
   ],
   "source": [
    "xmin, ymin, xmax, ymax = quad_boundary.total_bounds\n",
    "\n",
    "length = 20\n",
    "\n",
    "cols = list(np.arange(xmin, xmax + length, length))\n",
    "rows = list(np.arange(ymin, ymax + length, length))\n",
    "\n",
    "polygons = []\n",
    "for x in cols[:-1]:\n",
    "    for y in rows[:-1]:\n",
    "        polygons.append(Polygon([(x,y), (x+length, y), (x+length, y+length), (x, y+length)]))\n",
    "\n",
    "grid = gp.GeoDataFrame({'geometry':polygons})\n",
    "grid.loc[:, 'N'] = np.arange(len(grid))"
   ]
  }
 ],
 "metadata": {
  "kernelspec": {
   "display_name": "Python 3 (ipykernel)",
   "language": "python",
   "name": "python3"
  },
  "language_info": {
   "codemirror_mode": {
    "name": "ipython",
    "version": 3
   },
   "file_extension": ".py",
   "mimetype": "text/x-python",
   "name": "python",
   "nbconvert_exporter": "python",
   "pygments_lexer": "ipython3",
   "version": "3.9.18"
  }
 },
 "nbformat": 4,
 "nbformat_minor": 5
}
